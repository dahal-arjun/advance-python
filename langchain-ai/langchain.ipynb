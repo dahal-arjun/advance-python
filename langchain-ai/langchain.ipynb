{
 "cells": [
  {
   "cell_type": "code",
   "execution_count": 20,
   "id": "2a206af0-bda9-425f-91c9-2eaa16b86d93",
   "metadata": {},
   "outputs": [
    {
     "data": {
      "text/plain": [
       "True"
      ]
     },
     "execution_count": 20,
     "metadata": {},
     "output_type": "execute_result"
    }
   ],
   "source": [
    "from dotenv import load_dotenv\n",
    "load_dotenv()"
   ]
  },
  {
   "cell_type": "code",
   "execution_count": 21,
   "id": "f1f44b3e-76d6-4055-8a3f-26b4c40a18ae",
   "metadata": {},
   "outputs": [],
   "source": [
    "from langchain_google_genai import ChatGoogleGenerativeAI\n",
    "from langchain_core.prompts import ChatPromptTemplate"
   ]
  },
  {
   "cell_type": "code",
   "execution_count": 22,
   "id": "df4aa8f0-1889-4a20-9e11-8d454e629e11",
   "metadata": {},
   "outputs": [],
   "source": [
    "job_description = \"\"\"\n",
    "Senior Software Engineer with expertise in Python, cloud-based application development, RESTful API design, and experience with scalable systems. Familiarity with Pandas, Numpy, and Regular Expressions is required. \n",
    "Responsibilities include designing and implementing high-quality code, debugging, and collaborating with cross-functional teams.\n",
    "\"\"\""
   ]
  },
  {
   "cell_type": "code",
   "execution_count": 27,
   "id": "009bb4cc-1172-4a07-8540-052a78ea60a2",
   "metadata": {},
   "outputs": [
    {
     "name": "stdout",
     "output_type": "stream",
     "text": [
      "## Senior Software Engineer Interview Questions:\n",
      "\n",
      "**Technical Skills:**\n",
      "\n",
      "* **Python:**\n",
      "    * Describe your experience with Python, including specific versions and frameworks you've used.\n",
      "    * Explain the difference between a list and a tuple in Python. When would you use each?\n",
      "    * How would you handle exceptions in a Python application? Provide an example.\n",
      "    * Explain the concept of decorators in Python and give an example of their use.\n",
      "* **Cloud-Based Application Development:**\n",
      "    * Describe your experience with cloud platforms like AWS, Azure, or GCP.\n",
      "    * What are the benefits of using a cloud platform for application development?\n",
      "    * How would you design a scalable and fault-tolerant application on a cloud platform?\n",
      "    * Explain your understanding of serverless architecture and its advantages.\n",
      "* **RESTful API Design:**\n",
      "    * What are the key principles of RESTful API design?\n",
      "    * How would you design a RESTful API for a specific use case (e.g., a user authentication system)?\n",
      "    * Explain the difference between GET, POST, PUT, and DELETE HTTP methods.\n",
      "    * How would you handle versioning in a RESTful API?\n",
      "* **Scalable Systems:**\n",
      "    * Describe your experience with designing and building scalable systems.\n",
      "    * What are some common challenges in building scalable systems?\n",
      "    * How would you approach load balancing and caching in a high-traffic application?\n",
      "    * Explain your understanding of microservices architecture and its benefits.\n",
      "* **Pandas, NumPy, and Regular Expressions:**\n",
      "    * How would you use Pandas to read and manipulate data from a CSV file?\n",
      "    * Explain the concept of broadcasting in NumPy and provide an example.\n",
      "    * How would you use regular expressions to validate email addresses in a Python application?\n",
      "    * Describe a scenario where you used Pandas, NumPy, and regular expressions together to solve a problem.\n",
      "\n",
      "**Problem Solving and Design:**\n",
      "\n",
      "* Describe a complex technical problem you faced and how you solved it.\n",
      "* How do you approach designing a new software system? Walk me through your process.\n",
      "* How do you ensure the quality of your code? What testing methodologies do you use?\n",
      "* Explain your understanding of SOLID principles and how you apply them in your code.\n",
      "\n",
      "**Collaboration and Communication:**\n",
      "\n",
      "* Describe your experience working in a cross-functional team.\n",
      "* How do you communicate technical concepts to non-technical stakeholders?\n",
      "* How do you handle disagreements or conflicts within a team?\n",
      "* What are your preferred methods for code review and collaboration?\n",
      "\n",
      "**Experience and Growth:**\n",
      "\n",
      "* What are your career goals and how does this role align with them?\n",
      "* What are some of the most challenging projects you've worked on and what did you learn from them?\n",
      "* How do you stay up-to-date with the latest technologies and trends in software development?\n",
      "\n",
      "**Behavioral Questions:**\n",
      "\n",
      "* Tell me about a time you had to work under pressure to meet a deadline.\n",
      "* Describe a situation where you had to make a difficult technical decision.\n",
      "* How do you handle feedback, both positive and negative?\n",
      "\n",
      "These questions are designed to assess the candidate's technical skills, problem-solving abilities, communication skills, and experience in a comprehensive manner. The interviewer should tailor the questions to the specific requirements of the role and the candidate's background. \n",
      "\n"
     ]
    }
   ],
   "source": [
    "llm = ChatGoogleGenerativeAI(\n",
    "    model=\"gemini-1.5-flash\",\n",
    "    temperature=0.2,\n",
    "    max_tokens=None,\n",
    "    timeout=None,\n",
    "    max_Aretries=2,\n",
    ")\n",
    "\n",
    "\n",
    "prompt = ChatPromptTemplate.from_messages(\n",
    "    [\n",
    "        (\n",
    "            \"system\",\n",
    "            \"You are an experienced technical interviewer crafting interview questions based on a job description for a Senior Software Engineer role. Each question should assess relevant skills, experience, and thought processes for a candidate applying to this role.\",\n",
    "        ),\n",
    "        (\n",
    "            \"human\",\n",
    "            \"Given the following job description, generate a list of targeted interview questions:\\n\\nJob Description:\\n{job_description}\"\n",
    "        ),\n",
    "    ]\n",
    ")\n",
    "\n",
    "chain = prompt | llm\n",
    "question = chain.invoke(job_description)\n",
    "print(question.content)"
   ]
  },
  {
   "cell_type": "code",
   "execution_count": null,
   "id": "e05bcf90-6cbd-4746-8c38-ad6df6cf1c35",
   "metadata": {},
   "outputs": [],
   "source": []
  }
 ],
 "metadata": {
  "kernelspec": {
   "display_name": "Python 3 (ipykernel)",
   "language": "python",
   "name": "python3"
  },
  "language_info": {
   "codemirror_mode": {
    "name": "ipython",
    "version": 3
   },
   "file_extension": ".py",
   "mimetype": "text/x-python",
   "name": "python",
   "nbconvert_exporter": "python",
   "pygments_lexer": "ipython3",
   "version": "3.13.0"
  }
 },
 "nbformat": 4,
 "nbformat_minor": 5
}
