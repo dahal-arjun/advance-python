{
 "cells": [
  {
   "cell_type": "code",
   "execution_count": 20,
   "id": "2a206af0-bda9-425f-91c9-2eaa16b86d93",
   "metadata": {},
   "outputs": [
    {
     "data": {
      "text/plain": [
       "True"
      ]
     },
     "execution_count": 20,
     "metadata": {},
     "output_type": "execute_result"
    }
   ],
   "source": [
    "from dotenv import load_dotenv\n",
    "load_dotenv()"
   ]
  },
  {
   "cell_type": "code",
   "execution_count": 21,
   "id": "f1f44b3e-76d6-4055-8a3f-26b4c40a18ae",
   "metadata": {},
   "outputs": [],
   "source": [
    "from langchain_google_genai import ChatGoogleGenerativeAI\n",
    "from langchain_core.prompts import ChatPromptTemplate"
   ]
  },
  {
   "cell_type": "code",
   "execution_count": 22,
   "id": "df4aa8f0-1889-4a20-9e11-8d454e629e11",
   "metadata": {},
   "outputs": [],
   "source": [
    "job_description = \"\"\"\n",
    "Senior Software Engineer with expertise in Python, cloud-based application development, RESTful API design, and experience with scalable systems. Familiarity with Pandas, Numpy, and Regular Expressions is required. \n",
    "Responsibilities include designing and implementing high-quality code, debugging, and collaborating with cross-functional teams.\n",
    "\"\"\""
   ]
  },
  {
   "cell_type": "code",
   "execution_count": 24,
   "id": "009bb4cc-1172-4a07-8540-052a78ea60a2",
   "metadata": {},
   "outputs": [
    {
     "data": {
      "text/plain": [
       "AIMessage(content=\"## Senior Software Engineer Interview Questions:\\n\\n**Technical Skills:**\\n\\n* **Python:**\\n    * Describe your experience with Python, including specific versions and frameworks you've used.\\n    * How would you approach optimizing a Python script for performance?\\n    * Explain the concept of decorators in Python and provide an example of their use.\\n    * How do you handle errors and exceptions in your Python code?\\n* **Cloud-based Application Development:**\\n    * What cloud platforms are you familiar with (AWS, Azure, GCP)?\\n    * Describe a project where you used a cloud platform for application development. What were the challenges and how did you overcome them?\\n    * How would you design a cloud-based application for scalability and high availability?\\n* **RESTful API Design:**\\n    * Explain the principles of RESTful API design.\\n    * Describe the different HTTP methods used in REST APIs and their purpose.\\n    * How would you design an API for a specific use case (e.g., user authentication, data retrieval)?\\n* **Scalable Systems:**\\n    * What are some common challenges in building scalable systems?\\n    * Describe your experience with designing and implementing systems that can handle large amounts of data or traffic.\\n    * How would you approach load testing and performance optimization for a scalable system?\\n* **Pandas, NumPy, and Regular Expressions:**\\n    * Describe a scenario where you used Pandas for data manipulation and analysis.\\n    * How would you use NumPy to perform mathematical operations on large datasets?\\n    * Explain how you would use regular expressions to extract specific information from a text file.\\n\\n**Problem Solving and Design:**\\n\\n* **Design a system:** Design a RESTful API for a social media platform, considering features like user profiles, posts, comments, and likes.\\n* **Debugging:** Describe a complex bug you encountered in a project and how you went about debugging and resolving it.\\n* **Code Review:** Explain your approach to code reviews and what you look for in code written by others.\\n* **Technical Challenges:** Describe a technical challenge you faced in a previous project and how you overcame it.\\n\\n**Collaboration and Communication:**\\n\\n* **Teamwork:** Describe your experience working in a cross-functional team and how you contribute to a collaborative environment.\\n* **Communication:** How do you ensure clear and effective communication with both technical and non-technical stakeholders?\\n* **Problem Solving:** How do you approach problem-solving in a team setting?\\n\\n**Experience and Growth:**\\n\\n* **Career Goals:** What are your long-term career goals and how does this role align with them?\\n* **Learning:** How do you stay up-to-date with the latest technologies and trends in software development?\\n* **Previous Projects:** Describe a project you are particularly proud of and what you learned from it.\\n\\nThese questions are designed to assess a candidate's technical skills, problem-solving abilities, communication skills, and experience. The specific questions asked may vary depending on the specific requirements of the role and the candidate's background. \\n\", additional_kwargs={}, response_metadata={'prompt_feedback': {'block_reason': 0, 'safety_ratings': []}, 'finish_reason': 'STOP', 'safety_ratings': [{'category': 'HARM_CATEGORY_SEXUALLY_EXPLICIT', 'probability': 'NEGLIGIBLE', 'blocked': False}, {'category': 'HARM_CATEGORY_HATE_SPEECH', 'probability': 'NEGLIGIBLE', 'blocked': False}, {'category': 'HARM_CATEGORY_HARASSMENT', 'probability': 'NEGLIGIBLE', 'blocked': False}, {'category': 'HARM_CATEGORY_DANGEROUS_CONTENT', 'probability': 'NEGLIGIBLE', 'blocked': False}]}, id='run-34c09414-3068-4e62-a825-0fed85a6dafe-0', usage_metadata={'input_tokens': 123, 'output_tokens': 636, 'total_tokens': 759, 'input_token_details': {'cache_read': 0}})"
      ]
     },
     "execution_count": 24,
     "metadata": {},
     "output_type": "execute_result"
    }
   ],
   "source": [
    "llm = ChatGoogleGenerativeAI(\n",
    "    model=\"gemini-1.5-flash\",\n",
    "    temperature=0.2,\n",
    "    max_tokens=None,\n",
    "    timeout=None,\n",
    "    max_Aretries=2,\n",
    ")\n",
    "\n",
    "\n",
    "prompt = ChatPromptTemplate.from_messages(\n",
    "    [\n",
    "        (\n",
    "            \"system\",\n",
    "            \"You are an experienced technical interviewer crafting interview questions based on a job description for a Senior Software Engineer role. Each question should assess relevant skills, experience, and thought processes for a candidate applying to this role.\",\n",
    "        ),\n",
    "        (\n",
    "            \"human\",\n",
    "            \"Given the following job description, generate a list of targeted interview questions:\\n\\nJob Description:\\n{job_description}\"\n",
    "        ),\n",
    "    ]\n",
    ")\n",
    "\n",
    "chain = prompt | llm\n",
    "chain.invoke(job_description.content)"
   ]
  },
  {
   "cell_type": "code",
   "execution_count": null,
   "id": "e05bcf90-6cbd-4746-8c38-ad6df6cf1c35",
   "metadata": {},
   "outputs": [],
   "source": []
  }
 ],
 "metadata": {
  "kernelspec": {
   "display_name": "Python 3 (ipykernel)",
   "language": "python",
   "name": "python3"
  },
  "language_info": {
   "codemirror_mode": {
    "name": "ipython",
    "version": 3
   },
   "file_extension": ".py",
   "mimetype": "text/x-python",
   "name": "python",
   "nbconvert_exporter": "python",
   "pygments_lexer": "ipython3",
   "version": "3.13.0"
  }
 },
 "nbformat": 4,
 "nbformat_minor": 5
}
