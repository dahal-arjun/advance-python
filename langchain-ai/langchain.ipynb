{
 "cells": [
  {
   "cell_type": "code",
   "execution_count": null,
   "id": "f1f44b3e-76d6-4055-8a3f-26b4c40a18ae",
   "metadata": {},
   "outputs": [],
   "source": [
    "from langchain_google_genai import ChatGoogleGenerativeAI\n",
    "from langchain_core.prompts import ChatPromptTemplate\n",
    "\n",
    "llm = ChatGoogleGenerativeAI(\n",
    "    model=\"gemini-1.5-flash\",\n",
    "    temperature=0.2,\n",
    "    max_tokens=None,\n",
    "    timeout=None,\n",
    "    max_retries=2,\n",
    ")\n",
    "\n",
    "prompt = ChatPromptTemplate.from_messages(\n",
    "    [\n",
    "        (\n",
    "            \"system\",\n",
    "            \"You are an experienced technical interviewer crafting interview questions based on a job description for a Senior Software Engineer role. Each question should assess relevant skills, experience, and thought processes for a candidate applying to this role.\",\n",
    "        ),\n",
    "        (\n",
    "            \"human\",\n",
    "            \"Given the following job description, generate a list of targeted interview questions:\\n\\nJob Description:\\n{job_description}\"\n",
    "        ),\n",
    "    ]\n",
    ")\n",
    "\n",
    "chain = prompt | llm"
   ]
  },
  {
   "cell_type": "code",
   "execution_count": 4,
   "id": "df4aa8f0-1889-4a20-9e11-8d454e629e11",
   "metadata": {},
   "outputs": [],
   "source": [
    "job_description = \"\"\"\n",
    "Senior Software Engineer with expertise in Python, cloud-based application development, RESTful API design, and experience with scalable systems. Familiarity with Pandas, Numpy, and Regular Expressions is required. \n",
    "Responsibilities include designing and implementing high-quality code, debugging, and collaborating with cross-functional teams.\n",
    "\"\"\""
   ]
  },
  {
   "cell_type": "code",
   "execution_count": 5,
   "id": "009bb4cc-1172-4a07-8540-052a78ea60a2",
   "metadata": {},
   "outputs": [
    {
     "ename": "NameError",
     "evalue": "name 'chain' is not defined",
     "output_type": "error",
     "traceback": [
      "\u001b[0;31m---------------------------------------------------------------------------\u001b[0m",
      "\u001b[0;31mNameError\u001b[0m                                 Traceback (most recent call last)",
      "Cell \u001b[0;32mIn[5], line 1\u001b[0m\n\u001b[0;32m----> 1\u001b[0m \u001b[43mchain\u001b[49m\u001b[38;5;241m.\u001b[39minvoke(job_description)\n",
      "\u001b[0;31mNameError\u001b[0m: name 'chain' is not defined"
     ]
    }
   ],
   "source": [
    "chain.invoke(job_description)"
   ]
  },
  {
   "cell_type": "code",
   "execution_count": null,
   "id": "e05bcf90-6cbd-4746-8c38-ad6df6cf1c35",
   "metadata": {},
   "outputs": [],
   "source": []
  }
 ],
 "metadata": {
  "kernelspec": {
   "display_name": "Python 3 (ipykernel)",
   "language": "python",
   "name": "python3"
  },
  "language_info": {
   "codemirror_mode": {
    "name": "ipython",
    "version": 3
   },
   "file_extension": ".py",
   "mimetype": "text/x-python",
   "name": "python",
   "nbconvert_exporter": "python",
   "pygments_lexer": "ipython3",
   "version": "3.13.0"
  }
 },
 "nbformat": 4,
 "nbformat_minor": 5
}
